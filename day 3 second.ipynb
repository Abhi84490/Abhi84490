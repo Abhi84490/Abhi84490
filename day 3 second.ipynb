{
 "cells": [
  {
   "cell_type": "code",
   "execution_count": 1,
   "id": "42100ca1",
   "metadata": {},
   "outputs": [
    {
     "name": "stdout",
     "output_type": "stream",
     "text": [
      "enter the first number: 10\n",
      "enter the second number : 20\n",
      "30\n"
     ]
    }
   ],
   "source": [
    "a = int(input(\"enter the first number: \"))\n",
    "b= int(input(\"enter the second number : \"))\n",
    "c = a+b\n",
    "print(c)"
   ]
  },
  {
   "cell_type": "code",
   "execution_count": 2,
   "id": "3cdc5ab9",
   "metadata": {},
   "outputs": [
    {
     "name": "stdout",
     "output_type": "stream",
     "text": [
      "enter the first number: 5.9\n",
      "enter the second number:5\n",
      "10.9\n"
     ]
    }
   ],
   "source": [
    "a = float(input(\"enter the first number: \"))\n",
    "b = int(input(\"enter the second number:\"))\n",
    "c= a+b\n",
    "print(c)\n"
   ]
  },
  {
   "cell_type": "code",
   "execution_count": 3,
   "id": "e50e546a",
   "metadata": {},
   "outputs": [
    {
     "name": "stdout",
     "output_type": "stream",
     "text": [
      "enter first subject marks: 10\n",
      "enter second subject marks: 20\n",
      "enter third subject marks: 30\n",
      "enter fourth subject marks: 32\n",
      "enter fifth subject marks: 45\n",
      "27.4\n"
     ]
    }
   ],
   "source": [
    "a = int(input(\"enter first subject marks: \"))\n",
    "b = int(input(\"enter second subject marks: \"))\n",
    "c = int(input(\"enter third subject marks: \"))\n",
    "d = int(input(\"enter fourth subject marks: \"))\n",
    "e = int(input(\"enter fifth subject marks: \"))\n",
    "f= (a+b+c+d+e)/5\n",
    "print(f)\n"
   ]
  },
  {
   "cell_type": "markdown",
   "id": "b2e2f773",
   "metadata": {},
   "source": [
    "# conditions statement\n"
   ]
  },
  {
   "cell_type": "code",
   "execution_count": null,
   "id": "d1c2a208",
   "metadata": {},
   "outputs": [],
   "source": [
    "# #syntax---->\n",
    "\n",
    "#  if condition:\n",
    "#         print the msg\n",
    "# else:\n",
    "#     print the msg\n",
    "\n",
    "age = 23\n",
    "\n",
    "if age  > 18:\n",
    "    print(\" yes you can vote\")\n",
    "else age<18:\n",
    "    print(\"no you cannot vote\")  \n",
    "    "
   ]
  },
  {
   "cell_type": "code",
   "execution_count": 4,
   "id": "6329dedb",
   "metadata": {},
   "outputs": [
    {
     "ename": "SyntaxError",
     "evalue": "invalid syntax (2455225392.py, line 9)",
     "output_type": "error",
     "traceback": [
      "\u001b[1;36m  Input \u001b[1;32mIn [4]\u001b[1;36m\u001b[0m\n\u001b[1;33m    else age<18:\u001b[0m\n\u001b[1;37m         ^\u001b[0m\n\u001b[1;31mSyntaxError\u001b[0m\u001b[1;31m:\u001b[0m invalid syntax\n"
     ]
    }
   ],
   "source": [
    "age = 18\n",
    "\n",
    "if age  > 18:\n",
    "    print(\" yes you can vote\")\n",
    "    \n",
    "elif age == 18:\n",
    "    print(\" first time voter\")\n",
    "    \n",
    "else age<18:\n",
    "    print(\"no you cannot vote\") "
   ]
  },
  {
   "cell_type": "code",
   "execution_count": 5,
   "id": "4e41cd81",
   "metadata": {},
   "outputs": [
    {
     "name": "stdout",
     "output_type": "stream",
     "text": [
      " first time voter\n"
     ]
    }
   ],
   "source": [
    "age = 18\n",
    "\n",
    "if age  > 18:\n",
    "    print(\" yes you can vote\")\n",
    "    \n",
    "elif age == 18:\n",
    "    print(\" first time voter\")\n",
    "    \n",
    "else :\n",
    "    print(\"no you cannot vote\") "
   ]
  },
  {
   "cell_type": "code",
   "execution_count": null,
   "id": "c356cf5c",
   "metadata": {},
   "outputs": [],
   "source": [
    "# find the odd and even number\n",
    "# find a indidvidual is a child or adult.\n",
    "# find the if it is rainy outside or not\n",
    "# condition is if tem is 20 degree than it is rainy\n",
    "# wap to print holiday if the day is sunday otherwise \n",
    "#print boirng day\n"
   ]
  },
  {
   "cell_type": "code",
   "execution_count": 11,
   "id": "3ba50f9b",
   "metadata": {},
   "outputs": [
    {
     "name": "stdout",
     "output_type": "stream",
     "text": [
      "enter the number: 17\n",
      "number is odd\n"
     ]
    }
   ],
   "source": [
    "number = int(input(\"enter the number: \"))\n",
    "\n",
    "#if number//2 == 0:\n",
    "if number %2 == 0:\n",
    "    print(\"number is even\")\n",
    "    \n",
    "else:\n",
    "    print(\"number is odd\")\n",
    "    "
   ]
  },
  {
   "cell_type": "code",
   "execution_count": 10,
   "id": "bbb9886d",
   "metadata": {},
   "outputs": [
    {
     "name": "stdout",
     "output_type": "stream",
     "text": [
      "enter your age: 19\n",
      "you are an adult\n"
     ]
    }
   ],
   "source": [
    " age = int(input(\"enter your age: \"))\n",
    "if age<=18:\n",
    "    print(\"you are a child\")\n",
    "else:\n",
    "    print(\"you are an adult\")"
   ]
  },
  {
   "cell_type": "code",
   "execution_count": 12,
   "id": "776b7a59",
   "metadata": {},
   "outputs": [
    {
     "name": "stdout",
     "output_type": "stream",
     "text": [
      "enter the temp  19\n",
      "garmi\n"
     ]
    }
   ],
   "source": [
    "temprature = int(input(\"enter the temp  \"))\n",
    "if temprature<20:\n",
    "    print(\"garmi\")\n",
    "elif temprature ==20:\n",
    "    pritn(\"barish\")\n",
    "else:\n",
    "    print(\"thandi\")"
   ]
  },
  {
   "cell_type": "code",
   "execution_count": 13,
   "id": "9aacdc30",
   "metadata": {},
   "outputs": [
    {
     "name": "stdout",
     "output_type": "stream",
     "text": [
      "enter the daysunday\n",
      "holiday\n"
     ]
    }
   ],
   "source": [
    "# wap to print holiday if the day is sunday otherwise \n",
    "#print boirng day\n",
    "\n",
    "day = input(\"enter the day\")\n",
    "if day == \"sunday\":\n",
    "    print(\"holiday\")\n",
    "\n",
    "else:\n",
    "    print(\"boring day\")\n",
    "    "
   ]
  },
  {
   "cell_type": "code",
   "execution_count": null,
   "id": "a8bf35ea",
   "metadata": {},
   "outputs": [],
   "source": []
  }
 ],
 "metadata": {
  "kernelspec": {
   "display_name": "Python 3 (ipykernel)",
   "language": "python",
   "name": "python3"
  },
  "language_info": {
   "codemirror_mode": {
    "name": "ipython",
    "version": 3
   },
   "file_extension": ".py",
   "mimetype": "text/x-python",
   "name": "python",
   "nbconvert_exporter": "python",
   "pygments_lexer": "ipython3",
   "version": "3.9.12"
  }
 },
 "nbformat": 4,
 "nbformat_minor": 5
}
